{
  "cells": [
    {
      "cell_type": "markdown",
      "source": [
        "# Sign language recognition"
      ],
      "metadata": {
        "id": "E_rfpdhl2SkT"
      }
    },
    {
      "cell_type": "markdown",
      "metadata": {
        "id": "SP2ZXUNHLSac"
      },
      "source": [
        "# Importing Libraries"
      ]
    },
    {
      "cell_type": "code",
      "execution_count": null,
      "metadata": {
        "id": "Mm_y27q8q3d1"
      },
      "outputs": [],
      "source": [
        "from IPython.display import clear_output\n",
        "!pip install fasttext\n",
        "clear_output()"
      ]
    },
    {
      "cell_type": "code",
      "execution_count": null,
      "metadata": {
        "id": "NYQ0JFvaJm62"
      },
      "outputs": [],
      "source": [
        "from google.colab import drive\n",
        "drive.mount('/content/drive')\n",
        "clear_output()"
      ]
    },
    {
      "cell_type": "code",
      "execution_count": null,
      "metadata": {
        "id": "wPs7NGn9LIl9"
      },
      "outputs": [],
      "source": [
        "! mkdir dataset\n",
        "! unzip {\"/content/drive/MyDrive/for_colab/Assignment03.zip\"} -d dataset\n",
        "clear_output()"
      ]
    },
    {
      "cell_type": "code",
      "execution_count": null,
      "metadata": {
        "id": "D7RLIgWpLnwW"
      },
      "outputs": [],
      "source": [
        "import torch\n",
        "from torch.utils.data import DataLoader, TensorDataset\n",
        "from torchvision import transforms\n",
        "from PIL import Image\n",
        "import os\n",
        "import numpy as np\n",
        "import torch\n",
        "import fasttext\n",
        "import fasttext.util\n",
        "import torchvision.models as models\n",
        "import torch.nn as nn\n",
        "import torch.nn.functional as F\n",
        "from torch.utils.data import Dataset\n",
        "import matplotlib.pyplot as plt\n",
        "import torch.optim as optim\n",
        "import torchvision\n",
        "from torchvision.datasets import ImageFolder\n",
        "from torch.utils.data import random_split\n",
        "import random"
      ]
    },
    {
      "cell_type": "markdown",
      "metadata": {
        "id": "Ux_S1FEVLtY-"
      },
      "source": [
        "## Read and Prepare the Dataset (10 points)"
      ]
    },
    {
      "cell_type": "code",
      "execution_count": null,
      "metadata": {
        "colab": {
          "base_uri": "https://localhost:8080/"
        },
        "id": "iSSitPjZTVZ9",
        "outputId": "6dd362ce-8644-4872-afae-0d7ee1710886"
      },
      "outputs": [
        {
          "output_type": "stream",
          "name": "stdout",
          "text": [
            "torch.Size([16, 3, 224, 224])\n",
            "torch.Size([16])\n",
            "tensor([1, 2, 2, 3, 5, 9, 2, 9, 2, 1, 5, 5, 6, 6, 5, 5])\n"
          ]
        }
      ],
      "source": [
        "transform = transforms.Compose([\n",
        "    transforms.Resize((224, 224)),\n",
        "    transforms.ToTensor(),\n",
        "    transforms.Normalize(mean=[0.485, 0.456, 0.406], std=[0.229, 0.224, 0.225]),\n",
        "])\n",
        "\n",
        "train_dataset = ImageFolder(root=os.path.join('dataset/Assignment03', 'train'), transform=transform)\n",
        "test_dataset = ImageFolder(root=os.path.join('dataset/Assignment03', 'test'), transform=transform)\n",
        "\n",
        "total_size = len(train_dataset)\n",
        "train_size = int(0.8 * total_size)\n",
        "test_size = total_size - train_size\n",
        "train_dataset, val_dataset = random_split(train_dataset, [train_size, test_size] )\n",
        "\n",
        "batch_size = 16\n",
        "train_loader = DataLoader(train_dataset, batch_size=batch_size, shuffle=True)\n",
        "val_loader = DataLoader(val_dataset, batch_size =batch_size, shuffle=True)\n",
        "test_loader = DataLoader(test_dataset, batch_size=batch_size, shuffle=False)\n",
        "batch = next(iter(train_loader))\n",
        "print(batch[0].shape)\n",
        "print(batch[1].shape)\n",
        "print(batch[1])"
      ]
    },
    {
      "cell_type": "markdown",
      "metadata": {
        "id": "lqesQsdhL17m"
      },
      "source": [
        "## word embeddings (15 points)"
      ]
    },
    {
      "cell_type": "code",
      "execution_count": null,
      "metadata": {
        "colab": {
          "base_uri": "https://localhost:8080/"
        },
        "id": "XV4PDBfrL3lw",
        "outputId": "fb8b9938-1ba4-4395-9875-90a8fc939abc"
      },
      "outputs": [
        {
          "output_type": "stream",
          "name": "stderr",
          "text": [
            "Warning : `load_model` does not return WordVectorModel or SupervisedModel any more, but a `FastText` object which is very similar.\n"
          ]
        },
        {
          "output_type": "stream",
          "name": "stdout",
          "text": [
            "tensor([[ 0.0578, -0.0542, -0.2488, -0.0832, -0.1294,  0.2315, -0.1024, -0.2447,\n",
            "         -0.0011, -0.0170, -0.0416, -0.0200, -0.0665,  0.0891, -0.1044, -0.1680,\n",
            "         -0.1213,  0.0858, -0.2034,  0.0099, -0.0587, -0.0225, -0.0041, -0.0265,\n",
            "          0.0352,  0.0163,  0.0685,  0.5057,  0.1313,  0.0910,  0.2038,  0.1391,\n",
            "          0.0729,  0.1606, -0.0779,  0.1528,  0.0019,  0.1911,  0.0791, -0.2192,\n",
            "          0.1732,  0.0615,  0.0376,  0.0605, -0.1142,  0.0602, -0.0361, -0.1279,\n",
            "         -0.0913, -0.0435],\n",
            "        [ 0.0748,  0.0913, -0.2400,  0.2257,  0.0425,  0.0091,  0.0669, -0.0544,\n",
            "         -0.0919,  0.0225, -0.0126,  0.0958, -0.0076,  0.0252,  0.0337, -0.0114,\n",
            "         -0.0867,  0.0107,  0.0014,  0.0328, -0.0495, -0.0129, -0.0498,  0.0740,\n",
            "          0.1361,  0.0124, -0.1078,  0.3412,  0.0707, -0.0350,  0.0231,  0.0013,\n",
            "         -0.0217, -0.0340,  0.1250, -0.0719,  0.0052,  0.0262,  0.0043, -0.0474,\n",
            "          0.0801,  0.0748, -0.1108,  0.0713,  0.0047, -0.0662,  0.0766, -0.0323,\n",
            "         -0.0840, -0.0067],\n",
            "        [ 0.0000,  0.0000,  0.0000,  0.0000,  0.0000,  0.0000,  0.0000,  0.0000,\n",
            "          0.0000,  0.0000,  0.0000,  0.0000,  0.0000,  0.0000,  0.0000,  0.0000,\n",
            "          0.0000,  0.0000,  0.0000,  0.0000,  0.0000,  0.0000,  0.0000,  0.0000,\n",
            "          0.0000,  0.0000,  0.0000,  0.0000,  0.0000,  0.0000,  0.0000,  0.0000,\n",
            "          0.0000,  0.0000,  0.0000,  0.0000,  0.0000,  0.0000,  0.0000,  0.0000,\n",
            "          0.0000,  0.0000,  0.0000,  0.0000,  0.0000,  0.0000,  0.0000,  0.0000,\n",
            "          0.0000,  0.0000],\n",
            "        [ 0.0000,  0.0000,  0.0000,  0.0000,  0.0000,  0.0000,  0.0000,  0.0000,\n",
            "          0.0000,  0.0000,  0.0000,  0.0000,  0.0000,  0.0000,  0.0000,  0.0000,\n",
            "          0.0000,  0.0000,  0.0000,  0.0000,  0.0000,  0.0000,  0.0000,  0.0000,\n",
            "          0.0000,  0.0000,  0.0000,  0.0000,  0.0000,  0.0000,  0.0000,  0.0000,\n",
            "          0.0000,  0.0000,  0.0000,  0.0000,  0.0000,  0.0000,  0.0000,  0.0000,\n",
            "          0.0000,  0.0000,  0.0000,  0.0000,  0.0000,  0.0000,  0.0000,  0.0000,\n",
            "          0.0000,  0.0000],\n",
            "        [ 0.0000,  0.0000,  0.0000,  0.0000,  0.0000,  0.0000,  0.0000,  0.0000,\n",
            "          0.0000,  0.0000,  0.0000,  0.0000,  0.0000,  0.0000,  0.0000,  0.0000,\n",
            "          0.0000,  0.0000,  0.0000,  0.0000,  0.0000,  0.0000,  0.0000,  0.0000,\n",
            "          0.0000,  0.0000,  0.0000,  0.0000,  0.0000,  0.0000,  0.0000,  0.0000,\n",
            "          0.0000,  0.0000,  0.0000,  0.0000,  0.0000,  0.0000,  0.0000,  0.0000,\n",
            "          0.0000,  0.0000,  0.0000,  0.0000,  0.0000,  0.0000,  0.0000,  0.0000,\n",
            "          0.0000,  0.0000]])\n"
          ]
        },
        {
          "output_type": "stream",
          "name": "stderr",
          "text": [
            "<ipython-input-6-a0916dc2e65c>:18: UserWarning: Creating a tensor from a list of numpy.ndarrays is extremely slow. Please consider converting the list to a single numpy.ndarray with numpy.array() before converting to a tensor. (Triggered internally at ../torch/csrc/utils/tensor_new.cpp:261.)\n",
            "  return torch.tensor(embeddings)\n"
          ]
        }
      ],
      "source": [
        "# fasttext.util.download_model('ar', if_exists='ignore')  # 'ar' is the language code for Arabic\n",
        "ft = fasttext.load_model('/content/drive/MyDrive/for_colab/FT/cc.ar.300.bin')\n",
        "ft = fasttext.util.reduce_model(ft, 50)\n",
        "\n",
        "# some helper functions\n",
        "def load_ground_truth():\n",
        "    truth_file = 'dataset/Assignment03/groundTruth.txt'\n",
        "    with open(truth_file, 'r') as f:\n",
        "        truth = f.read().splitlines()\n",
        "    return truth\n",
        "\n",
        "def sentence_to_embedding(sentence, ft_model, max_length):\n",
        "    embeddings = [ft_model.get_word_vector(word) for word in sentence.split()]\n",
        "    # Pad the embeddings if necessary\n",
        "    padding_length = max_length - len(embeddings)\n",
        "    if padding_length > 0:\n",
        "        embeddings.extend([torch.zeros(50) for _ in range(padding_length)])\n",
        "    return torch.tensor(embeddings)\n",
        "\n",
        "def extract_unique_words(sentences):\n",
        "    unique_words = set()\n",
        "    for sentence in sentences:\n",
        "        words = sentence.split()\n",
        "        unique_words.update(words)\n",
        "    return list(unique_words)\n",
        "\n",
        "def get_ground_truth(labels):\n",
        "    ground_truth = []\n",
        "    for label in labels:\n",
        "        ground_truth.append(ground_truth_sentences[label])\n",
        "    return ground_truth\n",
        "\n",
        "# # Load the ground truth sentences\n",
        "ground_truth_sentences = load_ground_truth()\n",
        "max_sentence_length = max(len(sentence.split()) for sentence in ground_truth_sentences)\n",
        "# Convert all sentences to embeddings\n",
        "\n",
        "sentence_embeddings_for_all = torch.stack([sentence_to_embedding(sentence, ft, max_sentence_length) for sentence in ground_truth_sentences]) # This will be integerated into the models for this assignment.\n",
        "\n",
        "vocab = extract_unique_words(ground_truth_sentences) # this will be used later\n",
        "# # Example: Print the embedding of the first sentence\n",
        "print(sentence_embeddings_for_all[0])\n",
        "def get_sentence_embeddings(labels):\n",
        "    sentence_embeddings = torch.stack([sentence_embeddings_for_all[label] for label in labels])\n",
        "    return sentence_embeddings\n",
        "\n"
      ]
    },
    {
      "cell_type": "markdown",
      "metadata": {
        "id": "BQ6M7R4OdBbz"
      },
      "source": [
        "## Extract features from MobileNetV2\n",
        " For each frame, use MobileNetV2 to extract features from the last fully connected layer before the classification layer of the MobileNetV2 pretrained model. You will use these features as inputs for the following questions."
      ]
    },
    {
      "cell_type": "code",
      "execution_count": null,
      "metadata": {
        "id": "kV1yjdkLYb28",
        "colab": {
          "base_uri": "https://localhost:8080/"
        },
        "outputId": "d8c645da-bdbd-432b-8ff7-1c6afa46aa29"
      },
      "outputs": [
        {
          "output_type": "stream",
          "name": "stderr",
          "text": [
            "/usr/local/lib/python3.10/dist-packages/torchvision/models/_utils.py:208: UserWarning: The parameter 'pretrained' is deprecated since 0.13 and may be removed in the future, please use 'weights' instead.\n",
            "  warnings.warn(\n",
            "/usr/local/lib/python3.10/dist-packages/torchvision/models/_utils.py:223: UserWarning: Arguments other than a weight enum or `None` for 'weights' are deprecated since 0.13 and may be removed in the future. The current behavior is equivalent to passing `weights=MobileNet_V2_Weights.IMAGENET1K_V1`. You can also use `weights=MobileNet_V2_Weights.DEFAULT` to get the most up-to-date weights.\n",
            "  warnings.warn(msg)\n"
          ]
        }
      ],
      "source": [
        "mobilenet_v2 = models.mobilenet_v2(pretrained=True)\n",
        "mobilenet_v2 = torch.nn.Sequential(*(list(mobilenet_v2.children())[:-1]))\n",
        "\n",
        "# Ensure the model is in evaluation mode\n",
        "mobilenet_v2.eval()\n",
        "\n",
        "# 3. Feature Extraction Function, this will be used in the model, it is here only for illustration.\n",
        "def extract_features(frame):\n",
        "    with torch.no_grad():\n",
        "        frame = frame.unsqueeze(0)  # Add batch dimension\n",
        "        features = mobilenet_v2(frame)\n",
        "        return features.squeeze(0)\n"
      ]
    },
    {
      "cell_type": "markdown",
      "metadata": {
        "id": "np-c71KHFZDy"
      },
      "source": [
        "## Develop an encoder-decoder model to recognize the sign video (video captioning) [30 points]"
      ]
    },
    {
      "cell_type": "code",
      "execution_count": null,
      "metadata": {
        "id": "WTW4TT1sEd3k"
      },
      "outputs": [],
      "source": [
        "\n",
        "\n",
        "class Encoder(nn.Module):\n",
        "    def __init__(self, hidden_size, device, mobilenet_pretrained=True):\n",
        "        super(Encoder, self).__init__()\n",
        "        # Load the pretrained MobileNetV2 model and remove the classification layer\n",
        "        self.mobilenet = models.mobilenet_v2(pretrained=mobilenet_pretrained)\n",
        "        self.mobilenet = nn.Sequential(*(list(self.mobilenet.children())[:-1]))\n",
        "\n",
        "        # Adaptive pooling layer and linear layer for feature transformation\n",
        "        self.adaptive_pool = nn.AdaptiveAvgPool2d((1, 1))\n",
        "        # self.fc = nn.Linear(1280, 1280)  # 1280 is the default feature size of MobileNetV2\n",
        "\n",
        "        # Define the LSTM layer\n",
        "        self.lstm = nn.LSTM(input_size=1280, hidden_size=hidden_size, batch_first=True, device=device)\n",
        "\n",
        "    def forward(self, x):\n",
        "        x = x.unsqueeze(1)  # Add a sequence length dimension\n",
        "        # x is of shape (batch_size, seq_length, C, H, W)\n",
        "        batch_size, seq_length, C, H, W = x.size()\n",
        "        # Process through MobileNetV2\n",
        "        x = x.view(batch_size * seq_length, C, H, W)\n",
        "        x = self.mobilenet(x)\n",
        "\n",
        "        # Apply adaptive pooling and linear transformation\n",
        "        x = self.adaptive_pool(x)\n",
        "        x = x.view(x.size(0), -1)  # Flatten\n",
        "        # x = self.fc(x)  # Transform to feature size 4096\n",
        "        # Reshape for LSTM\n",
        "        x = x.view(batch_size, seq_length, -1)\n",
        "        x.to(device)\n",
        "        # Pass through LSTM\n",
        "        outputs, (hidden, cell) = self.lstm(x)\n",
        "        return hidden, cell\n",
        "\n",
        "class Decoder(nn.Module):\n",
        "    def __init__(self, hidden_size, sentence_embedding_size, output_size, embedding_model):\n",
        "        super(Decoder, self).__init__()\n",
        "        # Embedding will be done outside the decoder before passing the sentence to the lstm\n",
        "        # self.ft = embedding_model\n",
        "        self.lstm = nn.LSTM(sentence_embedding_size, hidden_size, num_layers=1, batch_first=True)\n",
        "        self.out = nn.Linear(hidden_size, sentence_embedding_size)  # output size =? max_sentence_length\n",
        "\n",
        "    def forward(self, word, hidden, cell):\n",
        "\n",
        "        # I moved the embedding outside the model, I will pass embeded words to the model directly\n",
        "        # embeddings = word_to_embedding(word, self.ft, max_word_length)\n",
        "        # embeddings = word_embeddings.unsqueeze(1)  # Add a sequence length dimension\n",
        "\n",
        "        # word now is of shape (batch_size, seq_length, embedding_size)\n",
        "\n",
        "        output, (hidden, cell) = self.lstm(word, (hidden, cell))\n",
        "        prediction = self.out(output.squeeze(1))\n",
        "        return prediction, hidden, cell\n",
        "\n",
        "class Seq2Seq(nn.Module):\n",
        "    def __init__(self, encoder, decoder):\n",
        "        super(Seq2Seq, self).__init__()\n",
        "        self.encoder = encoder\n",
        "        self.decoder = decoder\n",
        "        self.max_sentence_length = max_sentence_length\n",
        "\n",
        "    def forward(self, source, target, teacher_forcing_ratio=0.5):\n",
        "        batch_size = target.shape[0]\n",
        "        max_len = self.max_sentence_length  # Maximum sentence length\n",
        "        embedding_size = 50  # Size of word embedding\n",
        "\n",
        "        # Tensor to store decoder outputs\n",
        "        outputs = torch.zeros(batch_size, max_len, embedding_size).to(device)\n",
        "\n",
        "        # start of the actual forward pass\n",
        "        hidden, cell = self.encoder(source)\n",
        "\n",
        "        input = target[:, 0]\n",
        "        input = input.unsqueeze(1)  # Reshape from [batch_size, features] to [batch_size, seq_length, features]\n",
        "        # output, hidden, cell = self.decoder(input, hidden, cell)\n",
        "        # print(input.shape)\n",
        "        for t in range(1, max_len + 1):\n",
        "            output, hidden, cell = self.decoder(input, hidden, cell)\n",
        "            outputs[:, t-1] = output\n",
        "            # if t == 1: just for checking\n",
        "            #   print(output)\n",
        "            # Decide whether to do teacher forcing\n",
        "            teacher_force = random.random() < teacher_forcing_ratio\n",
        "            if (not t == max_len):\n",
        "              input = target[:, t].unsqueeze(1)\n",
        "              if (teacher_force):\n",
        "                input = target[:, t].unsqueeze(1)\n",
        "              else:\n",
        "                input = output.unsqueeze(1)\n",
        "\n",
        "        return outputs\n"
      ]
    },
    {
      "cell_type": "markdown",
      "metadata": {
        "id": "yx9yh-PBY8Qh"
      },
      "source": [
        "initilize the model"
      ]
    },
    {
      "cell_type": "code",
      "execution_count": null,
      "metadata": {
        "colab": {
          "base_uri": "https://localhost:8080/"
        },
        "id": "bPGmxJxeFjTZ",
        "outputId": "29f6ec41-243d-4ed3-b918-21b23550ff0a"
      },
      "outputs": [
        {
          "output_type": "stream",
          "name": "stdout",
          "text": [
            "cuda\n"
          ]
        }
      ],
      "source": [
        "# Hyperparameters\n",
        "hidden_size = 256  # Size of the hidden layers in LSTMs\n",
        "embed_size = 50   # Size of the word embeddings from FastText\n",
        "vocab_size = len(vocab)  # Size of your vocabulary\n",
        "learning_rate = 1e-3 # I tried multiple learning rates and this is the best.\n",
        "device = torch.device('cuda' if torch.cuda.is_available() else 'cpu')\n",
        "encoder = Encoder(hidden_size=hidden_size, device=device)\n",
        "\n",
        "decoder = Decoder(hidden_size = hidden_size, sentence_embedding_size = embed_size, output_size = max_sentence_length, embedding_model = ft)\n",
        "seq2seq = Seq2Seq(encoder, decoder)\n",
        "\n",
        "seq2seq = seq2seq.to(device)\n",
        "\n",
        "criterion = nn.L1Loss()\n",
        "optimizer = optim.Adam(seq2seq.parameters(), lr=learning_rate)\n",
        "\n",
        "epochs = 10\n",
        "print(device)"
      ]
    },
    {
      "cell_type": "markdown",
      "metadata": {
        "id": "4E9SQ8luY_Ao"
      },
      "source": [
        "Check the models"
      ]
    },
    {
      "cell_type": "code",
      "source": [
        "# Try the encoder; Making sure that encoder does what it is expected\n",
        "batch = next(iter(train_loader))\n",
        "frames = batch[0].to(device)\n",
        "labels = batch[1].to(device)\n",
        "hidden, cell = encoder(frames)\n",
        "print(hidden.shape)\n",
        "print(cell.shape)\n",
        "print(hidden)"
      ],
      "metadata": {
        "colab": {
          "base_uri": "https://localhost:8080/"
        },
        "id": "qTeDa2uABfjM",
        "outputId": "29b363f0-b2f7-4b0d-95f1-6c6c62f18fcd"
      },
      "execution_count": null,
      "outputs": [
        {
          "output_type": "stream",
          "name": "stdout",
          "text": [
            "torch.Size([1, 16, 256])\n",
            "torch.Size([1, 16, 256])\n",
            "tensor([[[-0.0189,  0.0267, -0.1597,  ...,  0.1093,  0.0113,  0.0540],\n",
            "         [ 0.0447,  0.0320, -0.1694,  ..., -0.2488,  0.1081, -0.0316],\n",
            "         [ 0.0339,  0.1283, -0.1402,  ..., -0.2501, -0.0152,  0.0634],\n",
            "         ...,\n",
            "         [ 0.0028, -0.1646, -0.0096,  ..., -0.0003, -0.0715, -0.0147],\n",
            "         [ 0.0213,  0.2251, -0.0866,  ...,  0.1027, -0.0505,  0.0638],\n",
            "         [ 0.0329,  0.1980, -0.1224,  ...,  0.0053,  0.0208, -0.0223]]],\n",
            "       device='cuda:0', grad_fn=<CudnnRnnBackward0>)\n"
          ]
        }
      ]
    },
    {
      "cell_type": "code",
      "source": [
        "# Try the decoder\n",
        "start_token = torch.zeros((frames.size(0), 1, 50)).to(device)\n",
        "output, hidden, cell = decoder(start_token, hidden, cell)\n",
        "print(output.shape)\n",
        "print(output[0]) # one word (one timestep of the decoder)"
      ],
      "metadata": {
        "colab": {
          "base_uri": "https://localhost:8080/"
        },
        "id": "MzYS7xYiB3Z3",
        "outputId": "a1838a3a-1102-4797-8eef-ea0db765903d"
      },
      "execution_count": null,
      "outputs": [
        {
          "output_type": "stream",
          "name": "stdout",
          "text": [
            "torch.Size([16, 50])\n",
            "tensor([ 0.1042, -0.0162, -0.0309, -0.0142,  0.0850, -0.0432, -0.0197,  0.0294,\n",
            "        -0.0359, -0.1143, -0.1084, -0.0463,  0.0948,  0.0310,  0.0795, -0.0661,\n",
            "        -0.0636,  0.0333,  0.0945, -0.0222, -0.0095, -0.0530,  0.0125, -0.1128,\n",
            "        -0.0131, -0.0440, -0.0173, -0.0061,  0.0829, -0.0560, -0.0062, -0.0057,\n",
            "         0.0463,  0.0964,  0.0393,  0.0042,  0.0461, -0.0050,  0.0421,  0.0419,\n",
            "         0.0365,  0.1197, -0.0545,  0.0579, -0.1071,  0.0675, -0.0579,  0.0303,\n",
            "         0.0110,  0.0103], device='cuda:0', grad_fn=<SelectBackward0>)\n"
          ]
        }
      ]
    },
    {
      "cell_type": "code",
      "source": [
        "# Try the seq2seq model\n",
        "batch = next(iter(train_loader))\n",
        "frames = batch[0].to(device)\n",
        "labels = batch[1].to(device)\n",
        "sentence_embeddings = get_sentence_embeddings(labels)\n",
        "sentence_embeddings = sentence_embeddings.to(device)\n",
        "# Forward pass\n",
        "output = seq2seq(frames, sentence_embeddings)\n",
        "print(output.shape)\n",
        "# print(output)\n",
        "print(output[0])\n"
      ],
      "metadata": {
        "colab": {
          "base_uri": "https://localhost:8080/"
        },
        "id": "WFKKAPBzyrtW",
        "outputId": "febbd0d1-9044-4ddf-c736-9313387a2990"
      },
      "execution_count": null,
      "outputs": [
        {
          "output_type": "stream",
          "name": "stdout",
          "text": [
            "torch.Size([16, 5, 50])\n",
            "tensor([[ 1.1494e-01,  3.1385e-02,  3.9463e-02, -4.5562e-02,  1.2094e-01,\n",
            "          1.2971e-02,  1.3485e-02, -2.4674e-03, -5.2747e-02, -4.6015e-02,\n",
            "         -3.5277e-02, -5.0197e-02,  3.5491e-02,  1.3323e-01,  1.0552e-01,\n",
            "         -6.6228e-02, -6.2820e-02, -2.4271e-02,  6.7194e-02, -3.6667e-02,\n",
            "         -4.2957e-02, -1.2775e-01,  6.3609e-02, -8.9284e-02,  7.0581e-03,\n",
            "         -8.4295e-02, -8.2418e-02,  1.8531e-02,  7.0665e-02, -1.0459e-01,\n",
            "          4.0170e-02, -3.4015e-02, -7.4785e-03,  1.0550e-01,  2.1972e-02,\n",
            "         -8.6602e-03,  4.9697e-02,  3.0898e-02,  6.2460e-02,  1.0924e-01,\n",
            "          6.0176e-02,  1.2032e-01, -1.2818e-02,  8.4432e-02, -4.6025e-02,\n",
            "          3.3456e-02, -7.9063e-02,  2.3520e-02, -8.7450e-04,  8.0719e-02],\n",
            "        [ 8.2447e-02,  2.5478e-02,  4.3347e-02, -5.2661e-02,  6.6316e-02,\n",
            "          3.0584e-02, -1.3101e-02,  6.6794e-05, -3.4150e-02, -5.0807e-02,\n",
            "         -4.7644e-02, -4.0027e-02,  4.7971e-02,  9.8060e-02,  9.3648e-02,\n",
            "         -6.4956e-02, -5.5510e-02,  4.9593e-03,  5.2433e-02, -4.5114e-02,\n",
            "         -3.0200e-02, -7.9638e-02,  6.7931e-02, -6.1287e-02, -2.6123e-02,\n",
            "         -6.8884e-02, -2.3071e-02, -1.7584e-03,  4.0662e-02, -6.6330e-02,\n",
            "         -1.1923e-02, -5.4514e-02, -1.6696e-02,  8.5439e-02,  1.1480e-02,\n",
            "         -2.7514e-02,  3.7238e-02,  2.8124e-02,  2.3829e-02,  5.9148e-02,\n",
            "          4.4147e-02,  8.1978e-02, -1.3658e-02,  3.6077e-02, -3.3839e-02,\n",
            "          2.2382e-02, -8.0422e-02,  1.2584e-02,  3.6592e-02,  5.0716e-02],\n",
            "        [ 5.8905e-02,  1.2050e-02,  3.7983e-02, -5.4084e-02,  3.9561e-02,\n",
            "          2.8528e-02, -2.3383e-02,  5.4554e-03, -2.7292e-02, -5.0569e-02,\n",
            "         -4.8415e-02, -3.7909e-02,  4.6232e-02,  8.5279e-02,  7.2260e-02,\n",
            "         -6.2174e-02, -6.2650e-02,  1.3168e-02,  5.0414e-02, -4.2730e-02,\n",
            "         -2.5842e-02, -4.8810e-02,  5.2534e-02, -4.8836e-02, -3.8122e-02,\n",
            "         -5.6794e-02,  1.0766e-02, -2.3517e-03,  2.9647e-02, -4.3901e-02,\n",
            "         -3.3775e-02, -5.7183e-02, -1.5347e-02,  6.9986e-02,  1.0072e-02,\n",
            "         -3.6451e-02,  3.0695e-02,  2.5127e-02,  2.3838e-03,  2.8686e-02,\n",
            "          2.7473e-02,  6.9333e-02, -1.5111e-02,  1.3483e-02, -3.3069e-02,\n",
            "          1.6981e-02, -7.7538e-02,  3.5095e-03,  4.5122e-02,  3.8459e-02],\n",
            "        [ 4.8392e-02,  2.7368e-03,  3.3605e-02, -5.3728e-02,  2.7033e-02,\n",
            "          2.4447e-02, -2.9168e-02,  9.2851e-03, -2.6421e-02, -5.1655e-02,\n",
            "         -4.6821e-02, -3.7137e-02,  4.1281e-02,  7.6979e-02,  5.8444e-02,\n",
            "         -5.8814e-02, -6.4687e-02,  1.8231e-02,  4.7242e-02, -4.1215e-02,\n",
            "         -2.0571e-02, -3.0353e-02,  4.4759e-02, -4.2722e-02, -4.4495e-02,\n",
            "         -5.1915e-02,  3.0442e-02, -3.2106e-04,  2.5146e-02, -3.3131e-02,\n",
            "         -4.6202e-02, -5.7624e-02, -1.2831e-02,  5.9754e-02,  1.2480e-02,\n",
            "         -4.2694e-02,  2.5887e-02,  2.4467e-02, -1.0891e-02,  9.4098e-03,\n",
            "          1.6745e-02,  6.6241e-02, -1.4804e-02,  1.8006e-03, -3.2053e-02,\n",
            "          1.0675e-02, -7.0841e-02, -1.2231e-03,  4.9062e-02,  3.3255e-02],\n",
            "        [ 4.5473e-02, -3.0317e-03,  3.0869e-02, -5.2545e-02,  2.1263e-02,\n",
            "          2.0176e-02, -3.2944e-02,  8.3190e-03, -2.8161e-02, -5.2710e-02,\n",
            "         -4.6812e-02, -3.7034e-02,  3.6196e-02,  7.4348e-02,  5.1957e-02,\n",
            "         -5.5808e-02, -6.4203e-02,  1.9946e-02,  4.3591e-02, -4.0911e-02,\n",
            "         -1.6296e-02, -1.8760e-02,  4.0698e-02, -4.1074e-02, -4.8313e-02,\n",
            "         -5.1565e-02,  4.2672e-02,  2.3739e-03,  2.4523e-02, -2.8546e-02,\n",
            "         -5.3734e-02, -5.8668e-02, -9.8158e-03,  5.1108e-02,  1.5564e-02,\n",
            "         -4.4416e-02,  2.2331e-02,  2.7467e-02, -2.0613e-02, -2.4124e-03,\n",
            "          1.1416e-02,  6.4444e-02, -1.3420e-02, -3.9478e-03, -2.8981e-02,\n",
            "          3.4430e-03, -6.5444e-02, -1.9674e-03,  5.1434e-02,  3.4300e-02]],\n",
            "       device='cuda:0', grad_fn=<SelectBackward0>)\n"
          ]
        }
      ]
    },
    {
      "cell_type": "markdown",
      "source": [
        "Train the model"
      ],
      "metadata": {
        "id": "a-la9jzwYjpS"
      }
    },
    {
      "cell_type": "code",
      "execution_count": null,
      "metadata": {
        "colab": {
          "base_uri": "https://localhost:8080/"
        },
        "id": "w5PbARRaIze3",
        "outputId": "3803129b-db53-4bfc-e4a0-3acf061bd0b9"
      },
      "outputs": [
        {
          "output_type": "stream",
          "name": "stdout",
          "text": [
            "Epoch: 0, train_loss=0.0071609972366602735, val_loss=0.0023795903924937276.)\n",
            "Epoch: 1, train_loss=0.0017671305554614173, val_loss=0.002118975263455826.)\n",
            "Epoch: 2, train_loss=0.0013711228469113752, val_loss=0.0016635343845171685.)\n",
            "Epoch: 3, train_loss=0.001216201149253131, val_loss=0.0022382136010988193.)\n",
            "Epoch: 4, train_loss=0.0011029636757365472, val_loss=0.0017099956562037044.)\n",
            "Epoch: 5, train_loss=0.0010157388635579241, val_loss=0.0014853529713229473.)\n",
            "Epoch: 6, train_loss=0.0009309626356901318, val_loss=0.0018079672313902075.)\n",
            "Epoch: 7, train_loss=0.0008896400087108846, val_loss=0.0013818864063289242.)\n",
            "Epoch: 8, train_loss=0.0008192465040596875, val_loss=0.0010499646225732497.)\n",
            "Epoch: 9, train_loss=0.0008145984331608491, val_loss=0.0014053294036509188.)\n",
            "CPU times: user 1h 36min 48s, sys: 21.4 s, total: 1h 37min 10s\n",
            "Wall time: 36min 40s\n"
          ]
        }
      ],
      "source": [
        "%%time\n",
        "# Training step\n",
        "train_losses = []\n",
        "val_losses = []\n",
        "\n",
        "for i in range(epochs):\n",
        "  # Train step\n",
        "  seq2seq.train()\n",
        "  batch_loss = 0\n",
        "  epoch_loss = 0\n",
        "  for batch_x, batch_y in train_loader:\n",
        "    # move batche to device\n",
        "    frames = batch_x.to(device)\n",
        "    labels = batch_y.to(device)\n",
        "    sentence_embeddings = get_sentence_embeddings(labels)\n",
        "    sentence_embeddings = sentence_embeddings.to(device)\n",
        "    # Forward pass\n",
        "    output = seq2seq(frames, sentence_embeddings)\n",
        "\n",
        "    # find loss\n",
        "    loss = criterion(output, sentence_embeddings)\n",
        "\n",
        "    # backward propgation, update weights\n",
        "    optimizer.zero_grad()\n",
        "    loss.backward()\n",
        "    optimizer.step()\n",
        "\n",
        "    batch_loss += loss.item() * batch_size\n",
        "  train_epoch_loss = batch_loss / len(train_loader.dataset)\n",
        "  train_losses.append(train_epoch_loss)\n",
        "\n",
        "  # validation step\n",
        "  seq2seq.eval()\n",
        "  correct_labels = 0\n",
        "\n",
        "  with torch.no_grad():\n",
        "    batch_loss = 0\n",
        "    epoch_loss = 0\n",
        "    for batch_x, batch_y in val_loader:\n",
        "      # move batche to device\n",
        "      frames = batch_x.to(device)\n",
        "      labels = batch_y.to(device)\n",
        "      sentence_embeddings = get_sentence_embeddings(labels)\n",
        "      sentence_embeddings = sentence_embeddings.to(device)\n",
        "      # Forward pass\n",
        "      output = seq2seq(frames, sentence_embeddings)\n",
        "\n",
        "      # find loss\n",
        "      loss = criterion(output, sentence_embeddings)\n",
        "\n",
        "      batch_loss += loss.item() * batch_size\n",
        "    val_epoch_loss = batch_loss / len(test_loader.dataset)\n",
        "    val_losses.append(val_epoch_loss)\n",
        "\n",
        "  print(f'Epoch: {i}, train_loss={train_epoch_loss}, val_loss={val_epoch_loss}.)')"
      ]
    },
    {
      "cell_type": "code",
      "source": [
        "plt.plot(train_losses, label='train loss')\n",
        "plt.plot(val_losses, label='val loss')\n",
        "plt.xlabel('Epoch')\n",
        "plt.ylabel('Loss')\n",
        "plt.legend()\n",
        "plt.show()"
      ],
      "metadata": {
        "colab": {
          "base_uri": "https://localhost:8080/",
          "height": 449
        },
        "id": "TEwmSK4oRFDK",
        "outputId": "5ced226f-4ff0-430c-bc11-f69e9cedaaef"
      },
      "execution_count": null,
      "outputs": [
        {
          "output_type": "display_data",
          "data": {
            "text/plain": [
              "<Figure size 640x480 with 1 Axes>"
            ],
            "image/png": "[encoded data removed]"
          },
          "metadata": {}
        }
      ]
    },
    {
      "cell_type": "markdown",
      "source": [
        "## Encoder-Decoder Model with Attention [20 points]:\n",
        "Develop a similar model but with attention mechanism for better performance."
      ],
      "metadata": {
        "id": "jLEbUGu3Pdjl"
      }
    },
    {
      "cell_type": "code",
      "execution_count": null,
      "metadata": {
        "id": "pZd2ztmVJABM"
      },
      "outputs": [],
      "source": [
        "class Attention(nn.Module):\n",
        "    def __init__(self, encoder_hidden_dim, decoder_hidden_dim):\n",
        "        super(Attention, self).__init__()\n",
        "        self.attn = nn.Linear(encoder_hidden_dim + decoder_hidden_dim, decoder_hidden_dim)\n",
        "        self.v = nn.Linear(decoder_hidden_dim, 1, bias=False)\n",
        "\n",
        "    def forward(self, hidden, encoder_outputs):\n",
        "        # hidden: [batch size, decoder hidden dim]\n",
        "        # encoder_outputs: [batch size, src len, encoder hidden dim]\n",
        "\n",
        "        batch_size = encoder_outputs.shape[0]\n",
        "        src_len = encoder_outputs.shape[1]\n",
        "\n",
        "        # Repeat decoder hidden state src_len times\n",
        "        hidden = hidden.squeeze(0).unsqueeze(1).repeat(1, src_len, 1)\n",
        "\n",
        "        energy = torch.tanh(self.attn(torch.cat((hidden, encoder_outputs), dim=2)))\n",
        "        attention = self.v(energy).squeeze(2)\n",
        "        return F.softmax(attention, dim=1)\n",
        "\n",
        "class NewEncoder(nn.Module):\n",
        "    def __init__(self, hidden_size, device, mobilenet_pretrained=True):\n",
        "        super(NewEncoder, self).__init__()\n",
        "        # Load the pretrained MobileNetV2 model and remove the classification layer\n",
        "        self.mobilenet = models.mobilenet_v2(pretrained=mobilenet_pretrained)\n",
        "        self.mobilenet = nn.Sequential(*(list(self.mobilenet.children())[:-1]))\n",
        "\n",
        "        # Adaptive pooling layer and linear layer for feature transformation\n",
        "        self.adaptive_pool = nn.AdaptiveAvgPool2d((1, 1))\n",
        "\n",
        "        # Define the LSTM layer\n",
        "        self.lstm = nn.LSTM(input_size=1280, hidden_size=hidden_size, batch_first=True, device=device)\n",
        "\n",
        "    def forward(self, x):\n",
        "        x = x.unsqueeze(1)  # Add a sequence length dimension\n",
        "        # x is of shape (batch_size, seq_length, C, H, W)\n",
        "        batch_size, seq_length, C, H, W = x.size()\n",
        "        # Process through MobileNetV2\n",
        "        x = x.view(batch_size * seq_length, C, H, W)\n",
        "        x = self.mobilenet(x)\n",
        "\n",
        "        # Apply adaptive pooling and linear transformation\n",
        "        x = self.adaptive_pool(x)\n",
        "        x = x.view(x.size(0), -1)  # Flatten\n",
        "        x = x.view(batch_size, seq_length, -1)\n",
        "        x.to(device)\n",
        "        # Pass through LSTM\n",
        "        outputs, (hidden, cell) = self.lstm(x)\n",
        "        return outputs, hidden, cell\n",
        "\n",
        "\n",
        "class DecoderAttention(nn.Module):\n",
        "    def __init__(self, hidden_size, sentence_embedding_size, output_size, embedding_model):\n",
        "        super(DecoderAttention, self).__init__()\n",
        "        # Embedding will be done outside the decoder before passing the sentence to the lstm\n",
        "        # self.ft = embedding_model\n",
        "        self.lstm = nn.LSTM(sentence_embedding_size, hidden_size, num_layers=1, batch_first=True)\n",
        "        self.out = nn.Linear(hidden_size, sentence_embedding_size)  # output size =? max_sentence_length\n",
        "        self.attention = Attention(hidden_size, hidden_size)\n",
        "        self.input_transform = nn.Linear(306, 50)\n",
        "\n",
        "\n",
        "\n",
        "    def forward(self, word, hidden, cell, encoder_outputs):\n",
        "\n",
        "        # Calculate attention weights\n",
        "        attention_weights = self.attention(hidden, encoder_outputs)\n",
        "\n",
        "        # Apply attention weights to encoder outputs\n",
        "        weighted = torch.bmm(attention_weights.unsqueeze(1), encoder_outputs)\n",
        "\n",
        "        # print(weighted.shape)\n",
        "        # print(word.shape)\n",
        "\n",
        "        lstm_input = torch.cat((word, weighted), dim=2)\n",
        "        lstm_input = self.input_transform(lstm_input)\n",
        "        # print(lstm_input.shape)\n",
        "\n",
        "        # Forward pass through LSTM\n",
        "        output, (hidden, cell) = self.lstm(lstm_input, (hidden, cell))\n",
        "        prediction = self.out(output.squeeze(1))\n",
        "        return prediction, hidden, cell\n",
        "\n",
        "class Seq2SeqAttention(nn.Module):\n",
        "    def __init__(self, encoder, decoder):\n",
        "        super(Seq2SeqAttention, self).__init__()\n",
        "        self.encoder = encoder\n",
        "        self.decoder = decoder\n",
        "        self.max_sentence_length = max_sentence_length\n",
        "\n",
        "    def forward(self, source, target, teacher_forcing_ratio=0.5):\n",
        "        batch_size = target.shape[0]\n",
        "        max_len = self.max_sentence_length  # Maximum sentence length\n",
        "        embedding_size = 50  # Size of word embedding\n",
        "\n",
        "        # Tensor to store decoder outputs\n",
        "        outputs = torch.zeros(batch_size, max_len, embedding_size).to(device)\n",
        "\n",
        "        # start of the actual forward pass\n",
        "        encoder_output, hidden, cell = self.encoder(source)\n",
        "\n",
        "        # First input to the decoder is the <sos> token\n",
        "        input = target[:, 0]\n",
        "        input = input.unsqueeze(1)  # Reshape from [batch_size, features] to [batch_size, seq_length, features]\n",
        "        # output, hidden, cell = self.decoder(input, hidden, cell)\n",
        "        # print(input.shape)\n",
        "        for t in range(1, max_len + 1):\n",
        "            output, hidden, cell = self.decoder(input, hidden, cell, encoder_output)\n",
        "            outputs[:, t-1] = output\n",
        "            # if t == 1: just for checking\n",
        "            #   print(output)\n",
        "            # Decide whether to do teacher forcing\n",
        "            teacher_force = random.random() < teacher_forcing_ratio\n",
        "            if (not t == max_len):\n",
        "              input = target[:, t].unsqueeze(1)\n",
        "              if (teacher_force):\n",
        "                input = target[:, t].unsqueeze(1)\n",
        "              else:\n",
        "                input = output.unsqueeze(1)\n",
        "\n",
        "        return outputs"
      ]
    },
    {
      "cell_type": "markdown",
      "source": [
        "initilize the model"
      ],
      "metadata": {
        "id": "pGuJ2YOlYyCI"
      }
    },
    {
      "cell_type": "code",
      "source": [
        "# Hyperparameters\n",
        "hidden_size = 256  # Size of the hidden layers in LSTMs\n",
        "embed_size = 50   # Size of the word embeddings from FastText\n",
        "vocab_size = len(vocab)  # Size of your vocabulary\n",
        "learning_rate = 1e-3 # I tried multiple learning rates and this is the best.\n",
        "device = torch.device('cuda' if torch.cuda.is_available() else 'cpu')\n",
        "newEncoder = NewEncoder(hidden_size=hidden_size, device=device)\n",
        "decoderAttention = DecoderAttention(hidden_size = hidden_size, sentence_embedding_size = embed_size, output_size = max_sentence_length, embedding_model = ft)\n",
        "seq2seqAttention = Seq2SeqAttention(encoder = newEncoder, decoder = decoderAttention)\n",
        "\n",
        "seq2seqAttention = seq2seqAttention.to(device)\n",
        "\n",
        "\n",
        "criterion = nn.L1Loss()\n",
        "optimizer = optim.Adam(seq2seqAttention.parameters(), lr=learning_rate)\n",
        "\n",
        "\n",
        "epochs = 10\n",
        "print(device)"
      ],
      "metadata": {
        "colab": {
          "base_uri": "https://localhost:8080/"
        },
        "id": "vbyIkPy1Y7C7",
        "outputId": "553f8c43-f0f2-4948-a2d3-c8f5e3e9bf64"
      },
      "execution_count": null,
      "outputs": [
        {
          "output_type": "stream",
          "name": "stdout",
          "text": [
            "cuda\n"
          ]
        }
      ]
    },
    {
      "cell_type": "markdown",
      "source": [
        "Training the model"
      ],
      "metadata": {
        "id": "svnEZ9MVZX-Z"
      }
    },
    {
      "cell_type": "code",
      "source": [
        "%%time\n",
        "# Training step\n",
        "train_losses = []\n",
        "val_losses = []\n",
        "\n",
        "for i in range(epochs):\n",
        "  # Train step\n",
        "  seq2seqAttention.train()\n",
        "  batch_loss = 0\n",
        "  epoch_loss = 0\n",
        "  for batch_x, batch_y in train_loader:\n",
        "    # move batche to device\n",
        "    frames = batch_x.to(device)\n",
        "    labels = batch_y.to(device)\n",
        "    sentence_embeddings = get_sentence_embeddings(labels)\n",
        "    sentence_embeddings = sentence_embeddings.to(device)\n",
        "    # Forward pass\n",
        "    output = seq2seqAttention(frames, sentence_embeddings)\n",
        "\n",
        "    # find loss\n",
        "    loss = criterion(output, sentence_embeddings)\n",
        "\n",
        "    # backward propgation, update weights\n",
        "    optimizer.zero_grad()\n",
        "    loss.backward()\n",
        "    optimizer.step()\n",
        "\n",
        "    batch_loss += loss.item() * batch_size\n",
        "  train_epoch_loss = batch_loss / len(train_loader.dataset)\n",
        "  train_losses.append(train_epoch_loss) # this is just for tracking\n",
        "\n",
        "  # validation step\n",
        "  seq2seq.eval()\n",
        "  correct_labels = 0\n",
        "\n",
        "  with torch.no_grad():\n",
        "    batch_loss = 0\n",
        "    epoch_loss = 0\n",
        "    for batch_x, batch_y in val_loader:\n",
        "      # move batche to device\n",
        "      frames = batch_x.to(device)\n",
        "      labels = batch_y.to(device)\n",
        "      sentence_embeddings = get_sentence_embeddings(labels)\n",
        "      sentence_embeddings = sentence_embeddings.to(device)\n",
        "      # Forward pass\n",
        "      output = seq2seqAttention(frames, sentence_embeddings)\n",
        "\n",
        "      # find loss\n",
        "      loss = criterion(output, sentence_embeddings)\n",
        "\n",
        "      batch_loss += loss.item() * batch_size\n",
        "    val_epoch_loss = batch_loss / len(test_loader.dataset)\n",
        "    val_losses.append(val_epoch_loss) # this is just for tracking\n",
        "\n",
        "  print(f'Epoch: {i}, train_loss={train_epoch_loss}, val_loss={val_epoch_loss}.)')"
      ],
      "metadata": {
        "colab": {
          "base_uri": "https://localhost:8080/"
        },
        "id": "BUI4pK1UZRpI",
        "outputId": "6bf3a3db-00d8-49d5-b8cc-a23139e9f3d3"
      },
      "execution_count": null,
      "outputs": [
        {
          "output_type": "stream",
          "name": "stdout",
          "text": [
            "Epoch: 0, train_loss=0.007908002663297362, val_loss=0.002771072015589611.)\n",
            "Epoch: 1, train_loss=0.0017383459881113751, val_loss=0.002432391791124687.)\n",
            "Epoch: 2, train_loss=0.0015274416979586302, val_loss=0.0018280997487829264.)\n",
            "Epoch: 3, train_loss=0.0012196671555426116, val_loss=0.0020872301118674153.)\n",
            "Epoch: 4, train_loss=0.0011387423893459898, val_loss=0.0021166988084036294.)\n",
            "Epoch: 5, train_loss=0.001017413781070733, val_loss=0.002126092777700361.)\n",
            "Epoch: 6, train_loss=0.0009216634968519367, val_loss=0.001178804806003234.)\n",
            "Epoch: 7, train_loss=0.0009110493213548727, val_loss=0.0011743161121778416.)\n",
            "Epoch: 8, train_loss=0.0008332444695690001, val_loss=0.0012880855945475173.)\n",
            "Epoch: 9, train_loss=0.0008489627032125436, val_loss=0.001968758042802978.)\n",
            "CPU times: user 1h 39min 5s, sys: 22.1 s, total: 1h 39min 27s\n",
            "Wall time: 37min 44s\n"
          ]
        }
      ]
    },
    {
      "cell_type": "code",
      "source": [
        "plt.plot(train_losses, label='train loss')\n",
        "plt.plot(val_losses, label='val loss')\n",
        "plt.xlabel('Epoch')\n",
        "plt.ylabel('Loss')\n",
        "plt.legend()\n",
        "plt.show()"
      ],
      "metadata": {
        "colab": {
          "base_uri": "https://localhost:8080/",
          "height": 449
        },
        "id": "DWVStYcslTED",
        "outputId": "60ba3629-7b4c-40cd-fbe3-92d27bcd325e"
      },
      "execution_count": null,
      "outputs": [
        {
          "output_type": "display_data",
          "data": {
            "text/plain": [
              "<Figure size 640x480 with 1 Axes>"
            ],
            "image/png": "[encoded data removed]"
          },
          "metadata": {}
        }
      ]
    },
    {
      "cell_type": "markdown",
      "metadata": {
        "id": "ldSlFpW0v4ud"
      },
      "source": [
        "## Report Results Using WER Metric [10 points]"
      ]
    },
    {
      "cell_type": "code",
      "execution_count": null,
      "metadata": {
        "id": "zoV4Geuiv58R",
        "colab": {
          "base_uri": "https://localhost:8080/"
        },
        "outputId": "c6561887-eb07-43a7-ce3c-f831f39705c0"
      },
      "outputs": [
        {
          "output_type": "stream",
          "name": "stdout",
          "text": [
            "\n"
          ]
        }
      ],
      "source": [
        "def wer(reference, hypothesis):\n",
        "    ref_words = reference.split()\n",
        "    hyp_words = hypothesis.split()\n",
        "\n",
        "    M, N = len(ref_words), len(hyp_words)\n",
        "    distance_matrix = [[0] * (N + 1) for _ in range(M + 1)]\n",
        "\n",
        "    for i in range(1, M + 1):\n",
        "        distance_matrix[i][0] = i\n",
        "    for j in range(1, N + 1):\n",
        "        distance_matrix[0][j] = j\n",
        "\n",
        "    for i in range(1, M + 1):\n",
        "        for j in range(1, N + 1):\n",
        "            if ref_words[i - 1] == hyp_words[j - 1]:\n",
        "                distance_matrix[i][j] = distance_matrix[i - 1][j - 1]\n",
        "            else:\n",
        "                substitution = distance_matrix[i - 1][j - 1] + 1\n",
        "                insertion = distance_matrix[i][j - 1] + 1\n",
        "                deletion = distance_matrix[i - 1][j] + 1\n",
        "                distance_matrix[i][j] = min(substitution, insertion, deletion)\n",
        "    return distance_matrix[M][N] / M\n",
        "\n",
        "def nearest_embedding_to_word(embedding, ft_model, vocab):\n",
        "    # Find the nearest word in the vocabulary (I got the vocb in part 2) for a given embedding\n",
        "    min_dist = float('inf')\n",
        "    nearest_word = None\n",
        "    for word in vocab:\n",
        "        word_embedding = torch.tensor(ft_model.get_word_vector(word)).to(device)\n",
        "        dist = torch.norm(embedding - torch.tensor(word_embedding))\n",
        "        if dist < min_dist:\n",
        "            min_dist = dist\n",
        "            nearest_word = word\n",
        "    return nearest_word\n",
        "# test\n",
        "print()"
      ]
    },
    {
      "cell_type": "markdown",
      "source": [
        "### Average WER for sequence to sequence without Attention"
      ],
      "metadata": {
        "id": "Rh5V3y8AQgE6"
      }
    },
    {
      "cell_type": "code",
      "source": [
        "seq2seq.eval()\n",
        "total_wer = 0\n",
        "total_sentences = 0\n",
        "## This is just for printing purposes\n",
        "used = []\n",
        "with torch.no_grad():\n",
        "    for batch_x, batch_y in test_loader:\n",
        "        frames = batch_x.to(device)\n",
        "        labels = batch_y.to(device)\n",
        "        groundTruthSentences = get_ground_truth(labels)\n",
        "        sentence_embeddings = get_sentence_embeddings(labels).to(device)\n",
        "\n",
        "        # Forward pass to get output from seq2seq model\n",
        "        output = seq2seq.forward(frames, sentence_embeddings, teacher_forcing_ratio=0)\n",
        "\n",
        "        # Convert output embeddings to sentences\n",
        "        predictions = []\n",
        "        for i in range(output.shape[0]):\n",
        "            ground_truth_length = len(groundTruthSentences[i].split())\n",
        "            predicted_sentence = ' '.join([nearest_embedding_to_word(output[i, t, :], ft, vocab)\n",
        "                                          for t in range(ground_truth_length)])\n",
        "            predictions.append(predicted_sentence)\n",
        "\n",
        "        # Calculate WER for each pair and accumulate\n",
        "        for pred, truth in zip(predictions, groundTruthSentences):\n",
        "            if (random.random() > 0.98 and truth not in used): ## Print some sentences randomly, if the truth sentence is printed before, then I am not priniting it.\n",
        "                used.append(truth)\n",
        "                print(f\"Generated: {pred}\")\n",
        "                print(f\"Actual: {truth}\")\n",
        "            total_wer += wer(truth, pred)\n",
        "            total_sentences += 1\n",
        "\n",
        "avg_wer = total_wer / total_sentences\n",
        "\n",
        "print(f\"Average Word Error Rate for sequence to sequence without attentions is : {avg_wer}\")\n"
      ],
      "metadata": {
        "colab": {
          "base_uri": "https://localhost:8080/"
        },
        "id": "GbbcCSRI8-50",
        "outputId": "27e9bcd0-2900-4482-d184-96a35c0f4007"
      },
      "execution_count": null,
      "outputs": [
        {
          "output_type": "stream",
          "name": "stderr",
          "text": [
            "<ipython-input-19-0149237e33a1>:30: UserWarning: To copy construct from a tensor, it is recommended to use sourceTensor.clone().detach() or sourceTensor.clone().detach().requires_grad_(True), rather than torch.tensor(sourceTensor).\n",
            "  dist = torch.norm(embedding - torch.tensor(word_embedding))\n"
          ]
        },
        {
          "output_type": "stream",
          "name": "stdout",
          "text": [
            "Generated: اسم الله\n",
            "Actual: اسم الله\n",
            "Generated: الحمد الله\n",
            "Actual: الحمد الله\n",
            "Generated: جميع الصم العرب السامع\n",
            "Actual: جميع الصم العرب  السامع\n",
            "Generated: السلام عليكم رحمة الله بركة\n",
            "Actual: السلام عليكم رحمة الله بركة\n",
            "Generated: اليوم اقدم انتم برنامج اخر\n",
            "Actual: اليوم اقدم انتم برنامج اخر\n",
            "Generated: موضوع دراسة لغة الاشارة العربية\n",
            "Actual: موضوع دراسة لغة الاشارة العربية\n",
            "Generated: كلمات اليوم متفرقة في الدين\n",
            "Actual: كلمات اليوم متفرقة في الدين\n",
            "Generated: ايضا كلمات عادية\n",
            "Actual: ايضا كلمات عادية\n",
            "Generated: لا شرك الله\n",
            "Actual: لا شرك الله\n",
            "Generated: الله اكبر\n",
            "Actual: الله اكبر\n",
            "Average Word Error Rate for sequence to sequence without attentions is : 0.0\n"
          ]
        }
      ]
    },
    {
      "cell_type": "markdown",
      "source": [
        "### Average WER for sequence to sequence with Attention"
      ],
      "metadata": {
        "id": "5iRVP4MWQqmB"
      }
    },
    {
      "cell_type": "code",
      "source": [
        "seq2seqAttention.eval()\n",
        "total_wer = 0\n",
        "total_sentences = 0\n",
        "used = []\n",
        "with torch.no_grad():\n",
        "    for batch_x, batch_y in test_loader:\n",
        "        frames = batch_x.to(device)\n",
        "        labels = batch_y.to(device)\n",
        "        groundTruthSentences = get_ground_truth(labels)\n",
        "        sentence_embeddings = get_sentence_embeddings(labels).to(device)\n",
        "\n",
        "        # Forward pass to get output from seq2seqAttention model\n",
        "        output = seq2seqAttention.forward(frames, sentence_embeddings, teacher_forcing_ratio=0)\n",
        "\n",
        "        # Convert output embeddings to sentences\n",
        "        predictions = []\n",
        "        for i in range(output.shape[0]):\n",
        "            ground_truth_length = len(groundTruthSentences[i].split())\n",
        "            predicted_sentence = ' '.join([nearest_embedding_to_word(output[i, t, :], ft, vocab)\n",
        "                                          for t in range(ground_truth_length)])\n",
        "            predictions.append(predicted_sentence)\n",
        "\n",
        "        # Calculate WER for each pair and accumulate\n",
        "        for pred, truth in zip(predictions, groundTruthSentences):\n",
        "            if (random.random() > 0.98 and truth not in used): ## Print some sentences randomly, if the truth sentence is printed before, then I am not priniting it.\n",
        "                used.append(truth)\n",
        "                print(f\"Generated: {pred}\")\n",
        "                print(f\"Actual: {truth}\")\n",
        "            total_wer += wer(truth, pred)\n",
        "            total_sentences += 1\n",
        "\n",
        "avg_wer = total_wer / total_sentences\n",
        "\n",
        "print(f\"Average Word Error Rate for sequence to sequence with attention is : {avg_wer}\")\n"
      ],
      "metadata": {
        "colab": {
          "base_uri": "https://localhost:8080/"
        },
        "id": "An72gD8BHO7M",
        "outputId": "564f8d7c-ad15-45c8-a071-0a65cd017001"
      },
      "execution_count": null,
      "outputs": [
        {
          "output_type": "stream",
          "name": "stderr",
          "text": [
            "<ipython-input-19-0149237e33a1>:30: UserWarning: To copy construct from a tensor, it is recommended to use sourceTensor.clone().detach() or sourceTensor.clone().detach().requires_grad_(True), rather than torch.tensor(sourceTensor).\n",
            "  dist = torch.norm(embedding - torch.tensor(word_embedding))\n"
          ]
        },
        {
          "output_type": "stream",
          "name": "stdout",
          "text": [
            "Generated: اسم الله\n",
            "Actual: اسم الله\n",
            "Generated: الحمد الله\n",
            "Actual: الحمد الله\n",
            "Generated: جميع الصم العرب السامع\n",
            "Actual: جميع الصم العرب  السامع\n",
            "Generated: السلام عليكم رحمة الله بركة\n",
            "Actual: السلام عليكم رحمة الله بركة\n",
            "Generated: اليوم اقدم انتم برنامج اخر\n",
            "Actual: اليوم اقدم انتم برنامج اخر\n",
            "Generated: موضوع دراسة لغة الاشارة العربية\n",
            "Actual: موضوع دراسة لغة الاشارة العربية\n",
            "Generated: كلمات اليوم متفرقة في الدين\n",
            "Actual: كلمات اليوم متفرقة في الدين\n",
            "Generated: ايضا كلمات عادية\n",
            "Actual: ايضا كلمات عادية\n",
            "Generated: لا شرك الله\n",
            "Actual: لا شرك الله\n",
            "Generated: الله اكبر\n",
            "Actual: الله اكبر\n",
            "Average Word Error Rate for sequence to sequence with attention is : 0.02946969696969683\n"
          ]
        }
      ]
    },
    {
      "cell_type": "markdown",
      "source": [
        "### investigate the genration of a sentence using my models\n",
        "This is just to see why WER is not 0.0"
      ],
      "metadata": {
        "id": "8tR8fMOBQvAF"
      }
    },
    {
      "cell_type": "code",
      "source": [
        "# seq2seq.eval()\n",
        "\n",
        "# for batch_x, batch_y in test_loader:\n",
        "#     frames = batch_x.to(device)\n",
        "#     labels = batch_y.to(device)\n",
        "#     groundTruthSentences = get_ground_truth(labels)\n",
        "#     sentence_embeddings = get_sentence_embeddings(labels).to(device)\n",
        "\n",
        "#     # Forward pass to get output from seq2seqAttention model\n",
        "#     output = seq2seq.forward(frames, sentence_embeddings, teacher_forcing_ratio=0)\n",
        "\n",
        "#     predictions = []\n",
        "#     for i in range(output.shape[0]):\n",
        "#         ground_truth_length = len(groundTruthSentences[i].split())\n",
        "#         predicted_sentence = ' '.join([nearest_embedding_to_word(output[i, t, :], ft, vocab)\n",
        "#                                       for t in range(ground_truth_length)])\n",
        "#         predictions.append(predicted_sentence)\n",
        "#     # Print sentence from the first element in the batch\n",
        "#     print(\"Generated: \", predictions[0])\n",
        "#     print(\"Actual: \", groundTruthSentences[0])\n",
        "#     break\n",
        "\n",
        "\n",
        "seq2seqAttention.eval()\n",
        "\n",
        "for batch_x, batch_y in test_loader:\n",
        "    frames = batch_x.to(device)\n",
        "    labels = batch_y.to(device)\n",
        "    groundTruthSentences = get_ground_truth(labels)\n",
        "    sentence_embeddings = get_sentence_embeddings(labels).to(device)\n",
        "\n",
        "    # Forward pass to get output from seq2seqAttention model\n",
        "    output = seq2seqAttention.forward(frames, sentence_embeddings, teacher_forcing_ratio=0)\n",
        "    predictions = []\n",
        "    for i in range(output.shape[0]):\n",
        "        ground_truth_length = len(groundTruthSentences[i].split())\n",
        "        predicted_sentence = ' '.join([nearest_embedding_to_word(output[i, t, :], ft, vocab)\n",
        "                                      for t in range(ground_truth_length)])\n",
        "        predictions.append(predicted_sentence)\n",
        "    # Print sentence from the first element in the batch\n",
        "    flag = False\n",
        "    for pred, truth in zip(predictions, groundTruthSentences):\n",
        "        wer_s = wer(truth, pred)\n",
        "        if (wer_s > 0): ## Print some sentences randomly, if the truth sentence is printed before, then I am not priniting it.\n",
        "            print(f\"Generated: {pred}\")\n",
        "            print(f\"Actual: {truth}\")\n",
        "            flag = True\n",
        "            break\n",
        "    if (flag):\n",
        "        break\n",
        "\n"
      ],
      "metadata": {
        "colab": {
          "base_uri": "https://localhost:8080/"
        },
        "id": "Cdl5dEVpNm0k",
        "outputId": "44bc54fd-a06a-4092-9dae-c2144c082f0f"
      },
      "execution_count": null,
      "outputs": [
        {
          "output_type": "stream",
          "name": "stderr",
          "text": [
            "<ipython-input-19-0149237e33a1>:30: UserWarning: To copy construct from a tensor, it is recommended to use sourceTensor.clone().detach() or sourceTensor.clone().detach().requires_grad_(True), rather than torch.tensor(sourceTensor).\n",
            "  dist = torch.norm(embedding - torch.tensor(word_embedding))\n"
          ]
        },
        {
          "output_type": "stream",
          "name": "stdout",
          "text": [
            "Generated: الحمد عليكم\n",
            "Actual: الحمد الله\n"
          ]
        }
      ]
    }
  ],
  "metadata": {
    "accelerator": "GPU",
    "colab": {
      "machine_shape": "hm",
      "provenance": []
    },
    "kernelspec": {
      "display_name": "Python 3",
      "name": "python3"
    },
    "language_info": {
      "name": "python"
    }
  },
  "nbformat": 4,
  "nbformat_minor": 0
}